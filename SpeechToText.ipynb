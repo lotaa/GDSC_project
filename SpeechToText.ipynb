{
  "nbformat": 4,
  "nbformat_minor": 0,
  "metadata": {
    "colab": {
      "provenance": [],
      "authorship_tag": "ABX9TyPoY6p8rQocCcZVydNijnuF",
      "include_colab_link": true
    },
    "kernelspec": {
      "name": "python3",
      "display_name": "Python 3"
    },
    "language_info": {
      "name": "python"
    }
  },
  "cells": [
    {
      "cell_type": "markdown",
      "metadata": {
        "id": "view-in-github",
        "colab_type": "text"
      },
      "source": [
        "<a href=\"https://colab.research.google.com/github/lotaa/GDSC_project/blob/main/SpeechToText.ipynb\" target=\"_parent\"><img src=\"https://colab.research.google.com/assets/colab-badge.svg\" alt=\"Open In Colab\"/></a>"
      ]
    },
    {
      "cell_type": "code",
      "source": [
        "!pip install speechrecognition"
      ],
      "metadata": {
        "colab": {
          "base_uri": "https://localhost:8080/"
        },
        "id": "TSpMCKeovxMX",
        "outputId": "397f423f-ecde-4d92-d183-cf5016a50c6e"
      },
      "execution_count": 3,
      "outputs": [
        {
          "output_type": "stream",
          "name": "stdout",
          "text": [
            "Looking in indexes: https://pypi.org/simple, https://us-python.pkg.dev/colab-wheels/public/simple/\n",
            "Collecting speechrecognition\n",
            "  Downloading SpeechRecognition-3.10.0-py2.py3-none-any.whl (32.8 MB)\n",
            "\u001b[2K     \u001b[90m━━━━━━━━━━━━━━━━━━━━━━━━━━━━━━━━━━━━━━━━\u001b[0m \u001b[32m32.8/32.8 MB\u001b[0m \u001b[31m58.1 MB/s\u001b[0m eta \u001b[36m0:00:00\u001b[0m\n",
            "\u001b[?25hRequirement already satisfied: requests>=2.26.0 in /usr/local/lib/python3.9/dist-packages (from speechrecognition) (2.27.1)\n",
            "Requirement already satisfied: urllib3<1.27,>=1.21.1 in /usr/local/lib/python3.9/dist-packages (from requests>=2.26.0->speechrecognition) (1.26.15)\n",
            "Requirement already satisfied: certifi>=2017.4.17 in /usr/local/lib/python3.9/dist-packages (from requests>=2.26.0->speechrecognition) (2022.12.7)\n",
            "Requirement already satisfied: idna<4,>=2.5 in /usr/local/lib/python3.9/dist-packages (from requests>=2.26.0->speechrecognition) (3.4)\n",
            "Requirement already satisfied: charset-normalizer~=2.0.0 in /usr/local/lib/python3.9/dist-packages (from requests>=2.26.0->speechrecognition) (2.0.12)\n",
            "Installing collected packages: speechrecognition\n",
            "Successfully installed speechrecognition-3.10.0\n"
          ]
        }
      ]
    },
    {
      "cell_type": "code",
      "source": [
        "!pip install pyaudio\n",
        "!pip install pyttsx3"
      ],
      "metadata": {
        "id": "dZ4BpifiwYth"
      },
      "execution_count": null,
      "outputs": []
    },
    {
      "cell_type": "code",
      "execution_count": null,
      "metadata": {
        "id": "vRMDGGsPvSV5"
      },
      "outputs": [],
      "source": [
        "# Python program to translate\n",
        "# speech to text and text to speech\n",
        "\n",
        "\n",
        "import speech_recognition as sr\n",
        "import pyttsx3\n",
        "\n",
        "# Initialize the recognizer\n",
        "r = sr.Recognizer()\n",
        "\n",
        "# Function to convert text to\n",
        "# speech\n",
        "def SpeakText(command):\n",
        "\t\n",
        "\t# Initialize the engine\n",
        "\tengine = pyttsx3.init()\n",
        "\tengine.say(command)\n",
        "\tengine.runAndWait()\n",
        "\t\n",
        "\t\n",
        "# Loop infinitely for user to\n",
        "# speak\n",
        "\n",
        "while(1):\n",
        "\t\n",
        "\t# Exception handling to handle\n",
        "\t# exceptions at the runtime\n",
        "\ttry:\n",
        "\t\t\n",
        "\t\t# use the microphone as source for input.\n",
        "\t\twith sr.Microphone() as source2:\n",
        "\t\t\t\n",
        "\t\t\t# wait for a second to let the recognizer\n",
        "\t\t\t# adjust the energy threshold based on\n",
        "\t\t\t# the surrounding noise level\n",
        "\t\t\tr.adjust_for_ambient_noise(source2, duration=0.2)\n",
        "\t\t\t\n",
        "\t\t\t#listens for the user's input\n",
        "\t\t\taudio2 = r.listen(source2)\n",
        "\t\t\t\n",
        "\t\t\t# Using google to recognize audio\n",
        "\t\t\tMyText = r.recognize_google(audio2)\n",
        "\t\t\tMyText = MyText.lower()\n",
        "\n",
        "\t\t\tprint(\"Did you say \",MyText)\n",
        "\t\t\tSpeakText(MyText)\n",
        "\t\t\t\n",
        "\texcept sr.RequestError as e:\n",
        "\t\tprint(\"Could not request results; {0}\".format(e))\n",
        "\t\t\n",
        "\texcept sr.UnknownValueError:\n",
        "\t\tprint(\"unknown error occurred\")\n"
      ]
    }
  ]
}